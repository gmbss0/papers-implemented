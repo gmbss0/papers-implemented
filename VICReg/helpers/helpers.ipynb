{
 "cells": [
  {
   "cell_type": "code",
   "execution_count": null,
   "id": "765e550d",
   "metadata": {},
   "outputs": [],
   "source": [
    "from dotmap import DotMap\n",
    "from json import load as json_load_from_file"
   ]
  },
  {
   "cell_type": "code",
   "execution_count": null,
   "id": "456e3a11",
   "metadata": {},
   "outputs": [],
   "source": [
    "def load_config(path=\"config.json\"):  # pragma: no cover\n",
    "    with open(path) as f:\n",
    "        config_dict = json_load_from_file(f)\n",
    "    return DotMap(config_dict)"
   ]
  }
 ],
 "metadata": {
  "kernelspec": {
   "display_name": "Python 3",
   "language": "python",
   "name": "python3"
  },
  "language_info": {
   "codemirror_mode": {
    "name": "ipython",
    "version": 3
   },
   "file_extension": ".py",
   "mimetype": "text/x-python",
   "name": "python",
   "nbconvert_exporter": "python",
   "pygments_lexer": "ipython3",
   "version": "3.8.10"
  },
  "toc": {
   "base_numbering": 1,
   "nav_menu": {},
   "number_sections": false,
   "sideBar": true,
   "skip_h1_title": false,
   "title_cell": "Table of Contents",
   "title_sidebar": "Contents",
   "toc_cell": false,
   "toc_position": {},
   "toc_section_display": true,
   "toc_window_display": false
  }
 },
 "nbformat": 4,
 "nbformat_minor": 5
}
